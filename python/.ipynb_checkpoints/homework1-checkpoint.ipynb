{
 "cells": [
  {
   "cell_type": "code",
   "execution_count": 61,
   "id": "ba2e1bb7",
   "metadata": {},
   "outputs": [
    {
     "name": "stdout",
     "output_type": "stream",
     "text": [
      "Hello World\n"
     ]
    }
   ],
   "source": [
    "#Print \"Hello, World!\" to the console.\n",
    "print(\"Hello World\")"
   ]
  },
  {
   "cell_type": "code",
   "execution_count": null,
   "id": "916ccf09",
   "metadata": {},
   "outputs": [],
   "source": [
    "# #Выводит описание для пользователя.\n",
    "# print(\"Введите радиус окружности, а программа вычеслит её площадь.\")\n",
    "\n",
    "# #Запрашивает у пользователя радиус окружности\n",
    "# r = int(input(\"Введите радиус: \"))\n",
    "# r *= r\n",
    "# p = 3.14\n",
    "# s = p * r\n",
    "# print(s)\n",
    "\n",
    "# Write a program to calculate the area of a circle with user input.\n",
    "import math\n",
    "# print(dir(math))\n",
    "# print(math.__dict__)\n",
    "radius = float(input(\"Enter the radius of the circle\"))\n",
    "area = math.pi * (radius ** 2)\n",
    "print(f'The area of the circle is{round(area,) }')\n"
   ]
  },
  {
   "cell_type": "code",
   "execution_count": null,
   "id": "f7bd041c",
   "metadata": {},
   "outputs": [],
   "source": [
    "# #Импортирование функции randnit из библиотеки random.\n",
    "# from random import randint\n",
    "\n",
    "# #Выводит описание для пользователя.\n",
    "# print(\"Введите по очереди диапазон чисел в котором прогамма\" + \n",
    "# \t\"выберет случайное число\")\n",
    "\t\n",
    "# #Запрашивает диопазон для генерации рандомного числа.\n",
    "# num_1 = int(input(\"С какого числа начнём: \"))\n",
    "# num_2 = int(input(\"Каким числом закончим: \"))\n",
    "\n",
    "# #Выводит рандомное число из заданного диапазона.\n",
    "# print(randint(num_1 ,num_2))\n",
    "\n",
    "#Create a program to generate a random number.\n",
    "from random import randint\n",
    "print(randint(1,100))\n",
    "\n"
   ]
  },
  {
   "cell_type": "code",
   "execution_count": null,
   "id": "673c804d",
   "metadata": {},
   "outputs": [],
   "source": [
    "#Write a function to reverse a string\n",
    "def reverse_string(string):\n",
    "    return string[::-1]\n",
    "\n",
    "#     string_1 = []\n",
    "#     res_string = []\n",
    "#     for srings in string:\n",
    "#         string_1.append(res_string)\n",
    "        \n",
    "#     while sring_1:\n",
    "#         res_string.append(string_1.pop())\n",
    "        \n",
    "#     result = \"\".join(res_string)\n",
    "#     print(result)\n",
    "    \n",
    "string = 'hello python world'\n",
    "reverse_string(string)\n",
    "        "
   ]
  },
  {
   "cell_type": "code",
   "execution_count": null,
   "id": "3ede7d71",
   "metadata": {},
   "outputs": [],
   "source": [
    "# #Build a program to check if a given string is a palindrome.\n",
    "# num = input(\"Введите строку: \")\n",
    "\n",
    "# or_num = []\n",
    "# ro_num = []\n",
    "\n",
    "# #Цикл для перебора строки, добавления в список и создания копии списка.\n",
    "# for nums in num:\n",
    "# \tor_num.append(nums)\n",
    "# \tor_num_2 = or_num[:]\n",
    "\n",
    "# #Добавление содержимого списка or_num в ro_num в обратном порядке\n",
    "# while or_num_2:\n",
    "\t\n",
    "# \tro_num.append(or_num_2.pop())\n",
    "\n",
    "# #Убирает все  лишние знаки и выводит на экран\n",
    "# #отформатированный вывод\n",
    "# result = ''.join(or_num)\n",
    "\n",
    "# #Сравнивает списки и выводит результат.\t\n",
    "# if or_num == ro_num:\n",
    "\t\n",
    "# \tprint(\"Строка: \" + result + \" является палиндромом!\")\n",
    "# else:\n",
    "# \tprint(\"Строка: \" + result + \" не является палиндромом!\")\n",
    "string = ('lol')\n",
    "print(string[::-1]==string)"
   ]
  },
  {
   "cell_type": "code",
   "execution_count": null,
   "id": "d9078a91",
   "metadata": {
    "scrolled": true
   },
   "outputs": [],
   "source": [
    "#Create a program to find the factorial of a number.\n",
    "# num = int(input(\"Введите число факториал которого вы хотите найти: \"))\n",
    "\n",
    "# fl = 1\n",
    "\n",
    "# for nums in range(2, num+1):\n",
    "# \tfl *= nums \n",
    "\n",
    "# print(\"Факториал числа \" + str(num) + \" = \" + str(fl) + \".\")\n",
    "\n",
    "# n = int(input())\n",
    "# fl = 1\n",
    "# while n > 1:\n",
    "#     fl *= n\n",
    "#     n -= 1\n",
    "# print(fl)\n",
    "\n",
    "# def factorial(n):\n",
    "#     if n == 0:\n",
    "#         return 1\n",
    "    \n",
    "#     return n * (n - 1)\n",
    "\n",
    "# print(factorial(6))\n"
   ]
  },
  {
   "cell_type": "code",
   "execution_count": null,
   "id": "9f757bfe",
   "metadata": {},
   "outputs": [],
   "source": [
    "#Build a program to find the greatest common divisor of two numbers.\n",
    "# a = int(input(\"Введите первое число: \"))\n",
    "# b = int(input(\"Введите второе число: \"))\n",
    "\n",
    "#     if a > b:\n",
    "#         num = b\n",
    "#     else:\n",
    "#         num = a\n",
    "\n",
    "#     for nums in range(1 , num + 1):\n",
    "#         i% nuf a ms == 0 and  b % nums == 0:\n",
    "#             nod = nums\n",
    "\n",
    "#     print(nod)\n",
    "\n",
    "def gcd(a, b):\n",
    "    if b == 0:\n",
    "        return a\n",
    "    else:\n",
    "        return gcd(b, a % b)\n",
    "print(gcd(12, 8))"
   ]
  },
  {
   "cell_type": "code",
   "execution_count": null,
   "id": "6dc59dce",
   "metadata": {},
   "outputs": [],
   "source": [
    "#Write a function to convert Fahrenheit to Celsius.\n",
    "# a = int(input())\n",
    "# b = (a - 32) * 5 / 9\n",
    "# print(b)\n",
    "\n",
    "def fahrenheit_to_celsius(far):\n",
    "    return (far - 32) * 5 / 9\n",
    "\n",
    "print(fahrenheit_to_celsius(68))"
   ]
  },
  {
   "cell_type": "code",
   "execution_count": 45,
   "id": "8286fc28",
   "metadata": {},
   "outputs": [
    {
     "name": "stdout",
     "output_type": "stream",
     "text": [
      "1634\n"
     ]
    }
   ],
   "source": [
    "#Build a program to find the sum of all numbers in a list.\n",
    "num = [128, 246, 34, 545, 681]\n",
    "# sum_nums = 0\n",
    "# for nums in num:\n",
    "# \tsum_nums += nums\n",
    "\t\n",
    "# print(sum_nums)\n",
    "\n",
    "print(sum(num))\n",
    "\n"
   ]
  },
  {
   "cell_type": "code",
   "execution_count": 48,
   "id": "5fb3653c",
   "metadata": {},
   "outputs": [],
   "source": [
    "#Write a program to sort a list of integers in ascending order.\n",
    "nums = [1, 3, 8, 10, 5, 14, 27, 98, 36, 2]\n",
    "# nums.sort()\n",
    "# print(nums)\n",
    "sorted_numbers = sorted(nums)\n"
   ]
  },
  {
   "cell_type": "code",
   "execution_count": 49,
   "id": "fdb5e404",
   "metadata": {},
   "outputs": [
    {
     "name": "stdout",
     "output_type": "stream",
     "text": [
      "True\n"
     ]
    }
   ],
   "source": [
    "#Create a program to check if a given year is a leap year.\n",
    "# year = int(input(\"Какой сейчас год: \"))\n",
    "# if year % 4 == 0 :\n",
    "# \tprint(str(year) + \" год, является високосным.\")\n",
    "    \n",
    "# else:\n",
    "# \tprint(str(year) + \" год, не является високосным.\")\n",
    "\n",
    "def is_leap_year(year):\n",
    "    if year % 4 == 0:\n",
    "        if year % 100 == 0:\n",
    "            if year % 400 == 0:\n",
    "                return True\n",
    "            else:\n",
    "                return False\n",
    "        else:\n",
    "            return True\n",
    "    else:\n",
    "        return False\n",
    "    \n",
    "print(is_leap_year(2024))"
   ]
  },
  {
   "cell_type": "code",
   "execution_count": 51,
   "id": "8abffbef",
   "metadata": {},
   "outputs": [
    {
     "name": "stdout",
     "output_type": "stream",
     "text": [
      "12\n"
     ]
    }
   ],
   "source": [
    "#Write a function to calculate the length of a string.\n",
    "# def string(a):\n",
    "# \tqnt = len(a)\n",
    "# \tprint(\"Количество символов в строке: \" + str(qnt))\n",
    "\t\n",
    "# a = input()\n",
    "# string(a)\n",
    "\n",
    "def string_length(str):\n",
    "    return len(str)\n",
    "print(string_length('hello python'))"
   ]
  },
  {
   "cell_type": "code",
   "execution_count": 10,
   "id": "9a3dafbf",
   "metadata": {},
   "outputs": [
    {
     "name": "stdout",
     "output_type": "stream",
     "text": [
      "4\n"
     ]
    }
   ],
   "source": [
    "#live code\n",
    "\n",
    "list = [1, 2, 4, 1, 3,]\n",
    "def find_max(list):\n",
    "\tmax_ = list[0]\n",
    "\tfor num in list:\n",
    "\t\tif num > max_:\n",
    "\t\t\tmax_ = num\n",
    "\treturn max_\n",
    "\n",
    "\n",
    "print(find_max(list))"
   ]
  },
  {
   "cell_type": "code",
   "execution_count": 52,
   "id": "afd15386",
   "metadata": {},
   "outputs": [
    {
     "name": "stdout",
     "output_type": "stream",
     "text": [
      "3\n"
     ]
    }
   ],
   "source": [
    "#Build a program to count the number of vowels in a given string.\n",
    "# string = \"Привет мир\"\n",
    "# num = 0\n",
    "# word = ['а', 'о', 'у', 'ы', 'э', 'е', 'ё', 'и', 'ю', 'я']\n",
    "# for  strings in string:\n",
    "# \tfor words in word:\n",
    "# \t\tif strings.lower() == words:\n",
    "# \t\t\tnum += 1\n",
    "# print(num)\n",
    "\n",
    "def count_vowels(str):\n",
    "    volwels = 'aeiouAEIOU'\n",
    "    count = 0\n",
    "    for char in str:\n",
    "        if char in volwels:\n",
    "            count += 1\n",
    "    return count\n",
    "\n",
    "print(count_vowels('aesda'))"
   ]
  },
  {
   "cell_type": "code",
   "execution_count": 58,
   "id": "95c4c6c9",
   "metadata": {},
   "outputs": [
    {
     "name": "stdout",
     "output_type": "stream",
     "text": [
      "55\n"
     ]
    }
   ],
   "source": [
    "#Create a program to generate a Fibonacci sequence up to a given number.\n",
    "\n",
    "# num_1 = 1\n",
    "# num_2 = 1\n",
    "\n",
    "# number = int(input())\n",
    "\n",
    "# n = 0\n",
    "\n",
    "# while n < number - 2:\n",
    "# \tnum_sum = num_1 + num_2\n",
    "# \tnum_1 = num_2\n",
    "# \tnum_2 = num_sum\n",
    "# \tn += 1\n",
    "\t\n",
    "# print(num_sum)\n",
    "\n",
    "def fibinacci_num(n):\n",
    "    if n <= 1:\n",
    "        return n\n",
    "    else:\n",
    "        return fibinacci_num(n - 1) + fibinacci_num(n - 2)\n",
    "print(fibinacci_num(10))"
   ]
  },
  {
   "cell_type": "code",
   "execution_count": 24,
   "id": "667d411a",
   "metadata": {},
   "outputs": [
    {
     "name": "stdout",
     "output_type": "stream",
     "text": [
      "90\n"
     ]
    }
   ],
   "source": [
    "#Write a program to find the largest number in a list.\n",
    "nums = [27, 1, 2, 4, 6, 90, 80 ,36]\n",
    "# nums.sort()\n",
    "# print(nums[-1])\n",
    "nums_sort =  sorted(nums, revers = True)\n",
    "print(nums_sort[1])\n"
   ]
  },
  {
   "cell_type": "code",
   "execution_count": 23,
   "id": "0f6cf90b",
   "metadata": {},
   "outputs": [
    {
     "name": "stdout",
     "output_type": "stream",
     "text": [
      "347\n"
     ]
    }
   ],
   "source": [
    "#Build a program to find the second largest number in a list.\n",
    "nums = [147, 15, 24, 51, 1, 23, 19, 984, 185, 347, 268 ,2, 6]\n",
    "# nums.sort()\n",
    "# print(nums[-2])\n",
    "nums_sort =  sorted(nums, revers = True)\n",
    "print(nums_sort[1])"
   ]
  },
  {
   "cell_type": "code",
   "execution_count": 59,
   "id": "08f95ac7",
   "metadata": {},
   "outputs": [
    {
     "name": "stdout",
     "output_type": "stream",
     "text": [
      "world hello\n"
     ]
    }
   ],
   "source": [
    "#Create a program to reverse the order of words in a given string.\n",
    "# string = input()\n",
    "\n",
    "# string = string.split()\n",
    "# string.reverse()\n",
    "\n",
    "# strings = ' '.join(string)\n",
    "\n",
    "# print(strings)\n",
    "def revers_word(str):\n",
    "    word = str.split()\n",
    "    reversed_word = ' '.join(word[::-1])\n",
    "    return reversed_word\n",
    "\n",
    "print(revers_word('hello world'))"
   ]
  },
  {
   "cell_type": "code",
   "execution_count": 22,
   "id": "b3cdfb25",
   "metadata": {},
   "outputs": [
    {
     "name": "stdout",
     "output_type": "stream",
     "text": [
      "10\n",
      "Число: 10 сложное\n"
     ]
    }
   ],
   "source": [
    "#Write a function to check if a given number is prime.\n",
    "# def prime_number(num):\n",
    "# \tif num == 2:\n",
    "# \t\tprint(\"Число: \" + str(num) + \" простое\")\n",
    "# \telif num == 3:\n",
    "# \t\tprint(\"Число: \" + str(num) + \" простое\")\n",
    "# \telif num % 2 == 0:\n",
    "# \t\tprint(\"Число: \" + str(num) + \" сложное\")\n",
    "# \telif num % 3 == 0:\n",
    "# \t\tprint(\"Число: \" + str(num) + \" сложное\")\n",
    "# \telse:\n",
    "# \t\tprint(\"Число: \" + str(num) + \" простое\")\n",
    "\t\t\n",
    "\t\t\n",
    "\n",
    "# number = int(input())\n",
    "# prime_number(number)\n",
    "\n",
    "def is_prime(n):\n",
    "    if n <= 1:\n",
    "        return False\n",
    "    elif n <= 3:\n",
    "        return True\n",
    "    elif n % 2 == 0 or n % 3 == 0:\n",
    "        return False\n",
    "    i = 5\n",
    "    while i * i <= n:\n",
    "        if n % i == 0 or n % (i + 2) ==  0:\n",
    "            return False\n",
    "        i += 6\n",
    "    return True"
   ]
  },
  {
   "cell_type": "code",
   "execution_count": 60,
   "id": "ed45f822",
   "metadata": {},
   "outputs": [
    {
     "ename": "SyntaxError",
     "evalue": "invalid syntax (1663134036.py, line 17)",
     "output_type": "error",
     "traceback": [
      "\u001b[1;36m  Cell \u001b[1;32mIn[60], line 17\u001b[1;36m\u001b[0m\n\u001b[1;33m    gcd = a 8 b\u001b[0m\n\u001b[1;37m            ^\u001b[0m\n\u001b[1;31mSyntaxError\u001b[0m\u001b[1;31m:\u001b[0m invalid syntax\n"
     ]
    }
   ],
   "source": [
    "#Build a program to find the lowest common multiple of two numbers.\n",
    "# a = int(input(\"Введите первое число: \"))\n",
    "# b = int(input(\"Введите второе число: \"))\n",
    "\n",
    "# if a > b:\n",
    "# \tnum = b\n",
    "# else:\n",
    "# \tnum = a\n",
    "# while True:\t\n",
    "# \tif num % a == 0 and  num % b == 0:\n",
    "# \t\tprint(num)\n",
    "# \t\tbreak\n",
    "# \telse:\n",
    "# \t\tnum += 1\n",
    "\n",
    "def lcm(a, b):\n",
    "    gcd = a * b\n",
    "    while b:\n",
    "        a, b = b, a % b\n",
    "    return gcd // a   "
   ]
  },
  {
   "cell_type": "code",
   "execution_count": 26,
   "id": "4693e4ce",
   "metadata": {},
   "outputs": [
    {
     "name": "stdout",
     "output_type": "stream",
     "text": [
      "20\n",
      "10100\n"
     ]
    }
   ],
   "source": [
    "#Create a program to convert a decimal number to binary.\n",
    "# num = int(input())\n",
    "# result = bin(num)[2:]\n",
    "# print(result)\n",
    "\n",
    "def decimal_to_binary(decimal):\n",
    "    binary = ''\n",
    "    while decimal > 0:\n",
    "        re_mainder = decimal % 2\n",
    "        binary = str(re_mainder) + binary\n",
    "        decimal //= 2 \n",
    "    return binary\n",
    "\n",
    "        \n",
    "    "
   ]
  },
  {
   "cell_type": "code",
   "execution_count": 39,
   "id": "a6e0af26",
   "metadata": {},
   "outputs": [
    {
     "name": "stdout",
     "output_type": "stream",
     "text": [
      "5040\n"
     ]
    }
   ],
   "source": [
    "import math\n",
    "\n",
    "# dir(math.factorial)\n",
    "\n",
    "# math.__dict__\n",
    "print(math.factorial(7))"
   ]
  },
  {
   "cell_type": "code",
   "execution_count": null,
   "id": "4fde8908",
   "metadata": {},
   "outputs": [],
   "source": []
  }
 ],
 "metadata": {
  "kernelspec": {
   "display_name": "Python 3 (ipykernel)",
   "language": "python",
   "name": "python3"
  },
  "language_info": {
   "codemirror_mode": {
    "name": "ipython",
    "version": 3
   },
   "file_extension": ".py",
   "mimetype": "text/x-python",
   "name": "python",
   "nbconvert_exporter": "python",
   "pygments_lexer": "ipython3",
   "version": "3.11.1"
  }
 },
 "nbformat": 4,
 "nbformat_minor": 5
}
